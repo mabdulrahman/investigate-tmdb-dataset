{
 "cells": [
  {
   "cell_type": "markdown",
   "metadata": {},
   "source": [
    "# Project: Analyse TMDB Dataset\n",
    "\n",
    "## Table of Contents\n",
    "<ul>\n",
    "<li><a href=\"#intro\">Introduction</a></li>\n",
    "<li><a href=\"#wrangling\">Data Wrangling</a></li>\n",
    "<li><a href=\"#eda\">Exploratory Data Analysis</a></li>\n",
    "<li><a href=\"#conclusions\">Conclusions</a></li>\n",
    "</ul>"
   ]
  },
  {
   "cell_type": "markdown",
   "metadata": {},
   "source": [
    "<a id='intro'></a>\n",
    "## Introduction\n",
    "\n",
    "This data set contains information about 10,000 movies collected from The Movie Database (TMDb), ranging from 1960 to 2015. It includes information about the movie, director, cast, user rating, revenue, etc.\n",
    "\n",
    "The questions we're gonna aim to answer using the data:\n",
    "\n",
    "- Question 1: What are the best and worst 10 movies of all time?\n",
    "- Question 2: Which directors have more than one movie in the top 100?\n",
    "- Question 3: How has the number of movies being made changed over the years?\n",
    "- Question 4: Which month generates the most revenue?\n",
    "- Question 5: How many movies were produced per genre?\n",
    "- Question 6: What's the average movie runtime and how has it changed over the years?\n",
    "- Question 7: How has the runtime changed over the years considering different movie genres? (Comedy & Drama) "
   ]
  },
  {
   "cell_type": "code",
   "execution_count": 1,
   "metadata": {},
   "outputs": [],
   "source": [
    "# Use this cell to set up import statements for all of the packages that you\n",
    "#   plan to use.\n",
    "import numpy as np\n",
    "import pandas as pd\n",
    "import matplotlib.pyplot as plt\n",
    "import seaborn as sns\n",
    "%matplotlib inline"
   ]
  },
  {
   "cell_type": "markdown",
   "metadata": {},
   "source": [
    "<a id='wrangling'></a>\n",
    "## Data Wrangling\n",
    "\n",
    "### General Properties"
   ]
  },
  {
   "cell_type": "markdown",
   "metadata": {},
   "source": [
    "Let's load in the data and look at the first few rows to get a good feeling of it."
   ]
  },
  {
   "cell_type": "code",
   "execution_count": 2,
   "metadata": {},
   "outputs": [
    {
     "data": {
      "text/html": [
       "<div>\n",
       "<style scoped>\n",
       "    .dataframe tbody tr th:only-of-type {\n",
       "        vertical-align: middle;\n",
       "    }\n",
       "\n",
       "    .dataframe tbody tr th {\n",
       "        vertical-align: top;\n",
       "    }\n",
       "\n",
       "    .dataframe thead th {\n",
       "        text-align: right;\n",
       "    }\n",
       "</style>\n",
       "<table border=\"1\" class=\"dataframe\">\n",
       "  <thead>\n",
       "    <tr style=\"text-align: right;\">\n",
       "      <th></th>\n",
       "      <th>id</th>\n",
       "      <th>imdb_id</th>\n",
       "      <th>popularity</th>\n",
       "      <th>budget</th>\n",
       "      <th>revenue</th>\n",
       "      <th>original_title</th>\n",
       "      <th>cast</th>\n",
       "      <th>homepage</th>\n",
       "      <th>director</th>\n",
       "      <th>tagline</th>\n",
       "      <th>...</th>\n",
       "      <th>overview</th>\n",
       "      <th>runtime</th>\n",
       "      <th>genres</th>\n",
       "      <th>production_companies</th>\n",
       "      <th>release_date</th>\n",
       "      <th>vote_count</th>\n",
       "      <th>vote_average</th>\n",
       "      <th>release_year</th>\n",
       "      <th>budget_adj</th>\n",
       "      <th>revenue_adj</th>\n",
       "    </tr>\n",
       "  </thead>\n",
       "  <tbody>\n",
       "    <tr>\n",
       "      <th>0</th>\n",
       "      <td>135397</td>\n",
       "      <td>tt0369610</td>\n",
       "      <td>32.985763</td>\n",
       "      <td>150000000</td>\n",
       "      <td>1513528810</td>\n",
       "      <td>Jurassic World</td>\n",
       "      <td>Chris Pratt|Bryce Dallas Howard|Irrfan Khan|Vi...</td>\n",
       "      <td>http://www.jurassicworld.com/</td>\n",
       "      <td>Colin Trevorrow</td>\n",
       "      <td>The park is open.</td>\n",
       "      <td>...</td>\n",
       "      <td>Twenty-two years after the events of Jurassic ...</td>\n",
       "      <td>124</td>\n",
       "      <td>Action|Adventure|Science Fiction|Thriller</td>\n",
       "      <td>Universal Studios|Amblin Entertainment|Legenda...</td>\n",
       "      <td>6/9/15</td>\n",
       "      <td>5562</td>\n",
       "      <td>6.5</td>\n",
       "      <td>2015</td>\n",
       "      <td>1.379999e+08</td>\n",
       "      <td>1.392446e+09</td>\n",
       "    </tr>\n",
       "    <tr>\n",
       "      <th>1</th>\n",
       "      <td>76341</td>\n",
       "      <td>tt1392190</td>\n",
       "      <td>28.419936</td>\n",
       "      <td>150000000</td>\n",
       "      <td>378436354</td>\n",
       "      <td>Mad Max: Fury Road</td>\n",
       "      <td>Tom Hardy|Charlize Theron|Hugh Keays-Byrne|Nic...</td>\n",
       "      <td>http://www.madmaxmovie.com/</td>\n",
       "      <td>George Miller</td>\n",
       "      <td>What a Lovely Day.</td>\n",
       "      <td>...</td>\n",
       "      <td>An apocalyptic story set in the furthest reach...</td>\n",
       "      <td>120</td>\n",
       "      <td>Action|Adventure|Science Fiction|Thriller</td>\n",
       "      <td>Village Roadshow Pictures|Kennedy Miller Produ...</td>\n",
       "      <td>5/13/15</td>\n",
       "      <td>6185</td>\n",
       "      <td>7.1</td>\n",
       "      <td>2015</td>\n",
       "      <td>1.379999e+08</td>\n",
       "      <td>3.481613e+08</td>\n",
       "    </tr>\n",
       "    <tr>\n",
       "      <th>2</th>\n",
       "      <td>262500</td>\n",
       "      <td>tt2908446</td>\n",
       "      <td>13.112507</td>\n",
       "      <td>110000000</td>\n",
       "      <td>295238201</td>\n",
       "      <td>Insurgent</td>\n",
       "      <td>Shailene Woodley|Theo James|Kate Winslet|Ansel...</td>\n",
       "      <td>http://www.thedivergentseries.movie/#insurgent</td>\n",
       "      <td>Robert Schwentke</td>\n",
       "      <td>One Choice Can Destroy You</td>\n",
       "      <td>...</td>\n",
       "      <td>Beatrice Prior must confront her inner demons ...</td>\n",
       "      <td>119</td>\n",
       "      <td>Adventure|Science Fiction|Thriller</td>\n",
       "      <td>Summit Entertainment|Mandeville Films|Red Wago...</td>\n",
       "      <td>3/18/15</td>\n",
       "      <td>2480</td>\n",
       "      <td>6.3</td>\n",
       "      <td>2015</td>\n",
       "      <td>1.012000e+08</td>\n",
       "      <td>2.716190e+08</td>\n",
       "    </tr>\n",
       "  </tbody>\n",
       "</table>\n",
       "<p>3 rows × 21 columns</p>\n",
       "</div>"
      ],
      "text/plain": [
       "       id    imdb_id  popularity     budget     revenue      original_title  \\\n",
       "0  135397  tt0369610   32.985763  150000000  1513528810      Jurassic World   \n",
       "1   76341  tt1392190   28.419936  150000000   378436354  Mad Max: Fury Road   \n",
       "2  262500  tt2908446   13.112507  110000000   295238201           Insurgent   \n",
       "\n",
       "                                                cast  \\\n",
       "0  Chris Pratt|Bryce Dallas Howard|Irrfan Khan|Vi...   \n",
       "1  Tom Hardy|Charlize Theron|Hugh Keays-Byrne|Nic...   \n",
       "2  Shailene Woodley|Theo James|Kate Winslet|Ansel...   \n",
       "\n",
       "                                         homepage          director  \\\n",
       "0                   http://www.jurassicworld.com/   Colin Trevorrow   \n",
       "1                     http://www.madmaxmovie.com/     George Miller   \n",
       "2  http://www.thedivergentseries.movie/#insurgent  Robert Schwentke   \n",
       "\n",
       "                      tagline  ...  \\\n",
       "0           The park is open.  ...   \n",
       "1          What a Lovely Day.  ...   \n",
       "2  One Choice Can Destroy You  ...   \n",
       "\n",
       "                                            overview runtime  \\\n",
       "0  Twenty-two years after the events of Jurassic ...     124   \n",
       "1  An apocalyptic story set in the furthest reach...     120   \n",
       "2  Beatrice Prior must confront her inner demons ...     119   \n",
       "\n",
       "                                      genres  \\\n",
       "0  Action|Adventure|Science Fiction|Thriller   \n",
       "1  Action|Adventure|Science Fiction|Thriller   \n",
       "2         Adventure|Science Fiction|Thriller   \n",
       "\n",
       "                                production_companies release_date vote_count  \\\n",
       "0  Universal Studios|Amblin Entertainment|Legenda...       6/9/15       5562   \n",
       "1  Village Roadshow Pictures|Kennedy Miller Produ...      5/13/15       6185   \n",
       "2  Summit Entertainment|Mandeville Films|Red Wago...      3/18/15       2480   \n",
       "\n",
       "   vote_average  release_year    budget_adj   revenue_adj  \n",
       "0           6.5          2015  1.379999e+08  1.392446e+09  \n",
       "1           7.1          2015  1.379999e+08  3.481613e+08  \n",
       "2           6.3          2015  1.012000e+08  2.716190e+08  \n",
       "\n",
       "[3 rows x 21 columns]"
      ]
     },
     "execution_count": 2,
     "metadata": {},
     "output_type": "execute_result"
    }
   ],
   "source": [
    "# Loading the data and looking at the first few rows\n",
    "movies = pd.read_csv('tmdb-movies.csv')\n",
    "movies.head(3)"
   ]
  },
  {
   "cell_type": "markdown",
   "metadata": {},
   "source": [
    "Now let's look at some useful info about the dataset to understand the different datatype in each column, the missing values, the range of each column, etc."
   ]
  },
  {
   "cell_type": "code",
   "execution_count": 3,
   "metadata": {},
   "outputs": [
    {
     "data": {
      "text/html": [
       "<div>\n",
       "<style scoped>\n",
       "    .dataframe tbody tr th:only-of-type {\n",
       "        vertical-align: middle;\n",
       "    }\n",
       "\n",
       "    .dataframe tbody tr th {\n",
       "        vertical-align: top;\n",
       "    }\n",
       "\n",
       "    .dataframe thead th {\n",
       "        text-align: right;\n",
       "    }\n",
       "</style>\n",
       "<table border=\"1\" class=\"dataframe\">\n",
       "  <thead>\n",
       "    <tr style=\"text-align: right;\">\n",
       "      <th></th>\n",
       "      <th>id</th>\n",
       "      <th>popularity</th>\n",
       "      <th>budget</th>\n",
       "      <th>revenue</th>\n",
       "      <th>runtime</th>\n",
       "      <th>vote_count</th>\n",
       "      <th>vote_average</th>\n",
       "      <th>release_year</th>\n",
       "      <th>budget_adj</th>\n",
       "      <th>revenue_adj</th>\n",
       "    </tr>\n",
       "  </thead>\n",
       "  <tbody>\n",
       "    <tr>\n",
       "      <th>count</th>\n",
       "      <td>10866.000000</td>\n",
       "      <td>10866.000000</td>\n",
       "      <td>1.086600e+04</td>\n",
       "      <td>1.086600e+04</td>\n",
       "      <td>10866.000000</td>\n",
       "      <td>10866.000000</td>\n",
       "      <td>10866.000000</td>\n",
       "      <td>10866.000000</td>\n",
       "      <td>1.086600e+04</td>\n",
       "      <td>1.086600e+04</td>\n",
       "    </tr>\n",
       "    <tr>\n",
       "      <th>mean</th>\n",
       "      <td>66064.177434</td>\n",
       "      <td>0.646441</td>\n",
       "      <td>1.462570e+07</td>\n",
       "      <td>3.982332e+07</td>\n",
       "      <td>102.070863</td>\n",
       "      <td>217.389748</td>\n",
       "      <td>5.974922</td>\n",
       "      <td>2001.322658</td>\n",
       "      <td>1.755104e+07</td>\n",
       "      <td>5.136436e+07</td>\n",
       "    </tr>\n",
       "    <tr>\n",
       "      <th>std</th>\n",
       "      <td>92130.136561</td>\n",
       "      <td>1.000185</td>\n",
       "      <td>3.091321e+07</td>\n",
       "      <td>1.170035e+08</td>\n",
       "      <td>31.381405</td>\n",
       "      <td>575.619058</td>\n",
       "      <td>0.935142</td>\n",
       "      <td>12.812941</td>\n",
       "      <td>3.430616e+07</td>\n",
       "      <td>1.446325e+08</td>\n",
       "    </tr>\n",
       "    <tr>\n",
       "      <th>min</th>\n",
       "      <td>5.000000</td>\n",
       "      <td>0.000065</td>\n",
       "      <td>0.000000e+00</td>\n",
       "      <td>0.000000e+00</td>\n",
       "      <td>0.000000</td>\n",
       "      <td>10.000000</td>\n",
       "      <td>1.500000</td>\n",
       "      <td>1960.000000</td>\n",
       "      <td>0.000000e+00</td>\n",
       "      <td>0.000000e+00</td>\n",
       "    </tr>\n",
       "    <tr>\n",
       "      <th>25%</th>\n",
       "      <td>10596.250000</td>\n",
       "      <td>0.207583</td>\n",
       "      <td>0.000000e+00</td>\n",
       "      <td>0.000000e+00</td>\n",
       "      <td>90.000000</td>\n",
       "      <td>17.000000</td>\n",
       "      <td>5.400000</td>\n",
       "      <td>1995.000000</td>\n",
       "      <td>0.000000e+00</td>\n",
       "      <td>0.000000e+00</td>\n",
       "    </tr>\n",
       "    <tr>\n",
       "      <th>50%</th>\n",
       "      <td>20669.000000</td>\n",
       "      <td>0.383856</td>\n",
       "      <td>0.000000e+00</td>\n",
       "      <td>0.000000e+00</td>\n",
       "      <td>99.000000</td>\n",
       "      <td>38.000000</td>\n",
       "      <td>6.000000</td>\n",
       "      <td>2006.000000</td>\n",
       "      <td>0.000000e+00</td>\n",
       "      <td>0.000000e+00</td>\n",
       "    </tr>\n",
       "    <tr>\n",
       "      <th>75%</th>\n",
       "      <td>75610.000000</td>\n",
       "      <td>0.713817</td>\n",
       "      <td>1.500000e+07</td>\n",
       "      <td>2.400000e+07</td>\n",
       "      <td>111.000000</td>\n",
       "      <td>145.750000</td>\n",
       "      <td>6.600000</td>\n",
       "      <td>2011.000000</td>\n",
       "      <td>2.085325e+07</td>\n",
       "      <td>3.369710e+07</td>\n",
       "    </tr>\n",
       "    <tr>\n",
       "      <th>max</th>\n",
       "      <td>417859.000000</td>\n",
       "      <td>32.985763</td>\n",
       "      <td>4.250000e+08</td>\n",
       "      <td>2.781506e+09</td>\n",
       "      <td>900.000000</td>\n",
       "      <td>9767.000000</td>\n",
       "      <td>9.200000</td>\n",
       "      <td>2015.000000</td>\n",
       "      <td>4.250000e+08</td>\n",
       "      <td>2.827124e+09</td>\n",
       "    </tr>\n",
       "  </tbody>\n",
       "</table>\n",
       "</div>"
      ],
      "text/plain": [
       "                  id    popularity        budget       revenue       runtime  \\\n",
       "count   10866.000000  10866.000000  1.086600e+04  1.086600e+04  10866.000000   \n",
       "mean    66064.177434      0.646441  1.462570e+07  3.982332e+07    102.070863   \n",
       "std     92130.136561      1.000185  3.091321e+07  1.170035e+08     31.381405   \n",
       "min         5.000000      0.000065  0.000000e+00  0.000000e+00      0.000000   \n",
       "25%     10596.250000      0.207583  0.000000e+00  0.000000e+00     90.000000   \n",
       "50%     20669.000000      0.383856  0.000000e+00  0.000000e+00     99.000000   \n",
       "75%     75610.000000      0.713817  1.500000e+07  2.400000e+07    111.000000   \n",
       "max    417859.000000     32.985763  4.250000e+08  2.781506e+09    900.000000   \n",
       "\n",
       "         vote_count  vote_average  release_year    budget_adj   revenue_adj  \n",
       "count  10866.000000  10866.000000  10866.000000  1.086600e+04  1.086600e+04  \n",
       "mean     217.389748      5.974922   2001.322658  1.755104e+07  5.136436e+07  \n",
       "std      575.619058      0.935142     12.812941  3.430616e+07  1.446325e+08  \n",
       "min       10.000000      1.500000   1960.000000  0.000000e+00  0.000000e+00  \n",
       "25%       17.000000      5.400000   1995.000000  0.000000e+00  0.000000e+00  \n",
       "50%       38.000000      6.000000   2006.000000  0.000000e+00  0.000000e+00  \n",
       "75%      145.750000      6.600000   2011.000000  2.085325e+07  3.369710e+07  \n",
       "max     9767.000000      9.200000   2015.000000  4.250000e+08  2.827124e+09  "
      ]
     },
     "execution_count": 3,
     "metadata": {},
     "output_type": "execute_result"
    }
   ],
   "source": [
    "# now let's look at some details\n",
    "movies.describe()"
   ]
  },
  {
   "cell_type": "code",
   "execution_count": 4,
   "metadata": {},
   "outputs": [
    {
     "name": "stdout",
     "output_type": "stream",
     "text": [
      "<class 'pandas.core.frame.DataFrame'>\n",
      "RangeIndex: 10866 entries, 0 to 10865\n",
      "Data columns (total 21 columns):\n",
      " #   Column                Non-Null Count  Dtype  \n",
      "---  ------                --------------  -----  \n",
      " 0   id                    10866 non-null  int64  \n",
      " 1   imdb_id               10856 non-null  object \n",
      " 2   popularity            10866 non-null  float64\n",
      " 3   budget                10866 non-null  int64  \n",
      " 4   revenue               10866 non-null  int64  \n",
      " 5   original_title        10866 non-null  object \n",
      " 6   cast                  10790 non-null  object \n",
      " 7   homepage              2936 non-null   object \n",
      " 8   director              10822 non-null  object \n",
      " 9   tagline               8042 non-null   object \n",
      " 10  keywords              9373 non-null   object \n",
      " 11  overview              10862 non-null  object \n",
      " 12  runtime               10866 non-null  int64  \n",
      " 13  genres                10843 non-null  object \n",
      " 14  production_companies  9836 non-null   object \n",
      " 15  release_date          10866 non-null  object \n",
      " 16  vote_count            10866 non-null  int64  \n",
      " 17  vote_average          10866 non-null  float64\n",
      " 18  release_year          10866 non-null  int64  \n",
      " 19  budget_adj            10866 non-null  float64\n",
      " 20  revenue_adj           10866 non-null  float64\n",
      "dtypes: float64(4), int64(6), object(11)\n",
      "memory usage: 1.7+ MB\n"
     ]
    }
   ],
   "source": [
    "movies.info()"
   ]
  },
  {
   "cell_type": "markdown",
   "metadata": {},
   "source": [
    "### Data Cleaning"
   ]
  },
  {
   "cell_type": "markdown",
   "metadata": {},
   "source": [
    "By examining the dataset, we see a few potential problems. Some irrelevant columns to our analysis that should be dropped, some missing values(we're gonna treat 0 as a missing value for runtime, revenue, and budget), the release_date column isn't the right data type, check for duplicates, and some movies got very few votes which could lead to misleading results for some parts of our analysis. Let's address those problems. "
   ]
  },
  {
   "cell_type": "markdown",
   "metadata": {},
   "source": [
    "First of all, let's drop some columns that are irrelevant to the questions posed. "
   ]
  },
  {
   "cell_type": "code",
   "execution_count": 5,
   "metadata": {},
   "outputs": [
    {
     "data": {
      "text/plain": [
       "Index(['id', 'imdb_id', 'popularity', 'budget', 'revenue', 'original_title',\n",
       "       'cast', 'homepage', 'director', 'tagline', 'keywords', 'overview',\n",
       "       'runtime', 'genres', 'production_companies', 'release_date',\n",
       "       'vote_count', 'vote_average', 'release_year', 'budget_adj',\n",
       "       'revenue_adj'],\n",
       "      dtype='object')"
      ]
     },
     "execution_count": 5,
     "metadata": {},
     "output_type": "execute_result"
    }
   ],
   "source": [
    "# list of columns in our df\n",
    "movies.columns"
   ]
  },
  {
   "cell_type": "code",
   "execution_count": 6,
   "metadata": {
    "scrolled": true
   },
   "outputs": [
    {
     "data": {
      "text/html": [
       "<div>\n",
       "<style scoped>\n",
       "    .dataframe tbody tr th:only-of-type {\n",
       "        vertical-align: middle;\n",
       "    }\n",
       "\n",
       "    .dataframe tbody tr th {\n",
       "        vertical-align: top;\n",
       "    }\n",
       "\n",
       "    .dataframe thead th {\n",
       "        text-align: right;\n",
       "    }\n",
       "</style>\n",
       "<table border=\"1\" class=\"dataframe\">\n",
       "  <thead>\n",
       "    <tr style=\"text-align: right;\">\n",
       "      <th></th>\n",
       "      <th>id</th>\n",
       "      <th>popularity</th>\n",
       "      <th>budget</th>\n",
       "      <th>revenue</th>\n",
       "      <th>original_title</th>\n",
       "      <th>director</th>\n",
       "      <th>runtime</th>\n",
       "      <th>genres</th>\n",
       "      <th>release_date</th>\n",
       "      <th>vote_count</th>\n",
       "      <th>vote_average</th>\n",
       "      <th>release_year</th>\n",
       "      <th>budget_adj</th>\n",
       "      <th>revenue_adj</th>\n",
       "    </tr>\n",
       "  </thead>\n",
       "  <tbody>\n",
       "    <tr>\n",
       "      <th>0</th>\n",
       "      <td>135397</td>\n",
       "      <td>32.985763</td>\n",
       "      <td>150000000</td>\n",
       "      <td>1513528810</td>\n",
       "      <td>Jurassic World</td>\n",
       "      <td>Colin Trevorrow</td>\n",
       "      <td>124</td>\n",
       "      <td>Action|Adventure|Science Fiction|Thriller</td>\n",
       "      <td>6/9/15</td>\n",
       "      <td>5562</td>\n",
       "      <td>6.5</td>\n",
       "      <td>2015</td>\n",
       "      <td>1.379999e+08</td>\n",
       "      <td>1.392446e+09</td>\n",
       "    </tr>\n",
       "  </tbody>\n",
       "</table>\n",
       "</div>"
      ],
      "text/plain": [
       "       id  popularity     budget     revenue  original_title         director  \\\n",
       "0  135397   32.985763  150000000  1513528810  Jurassic World  Colin Trevorrow   \n",
       "\n",
       "   runtime                                     genres release_date  \\\n",
       "0      124  Action|Adventure|Science Fiction|Thriller       6/9/15   \n",
       "\n",
       "   vote_count  vote_average  release_year    budget_adj   revenue_adj  \n",
       "0        5562           6.5          2015  1.379999e+08  1.392446e+09  "
      ]
     },
     "execution_count": 6,
     "metadata": {},
     "output_type": "execute_result"
    }
   ],
   "source": [
    "# drop irrelevant columns\n",
    "cols_to_drop = ['imdb_id', 'cast', 'homepage', 'tagline', 'keywords', 'overview', 'production_companies']\n",
    "movies.drop(cols_to_drop, axis=1, inplace=True)\n",
    "movies.head(1)"
   ]
  },
  {
   "cell_type": "markdown",
   "metadata": {},
   "source": [
    "Now let's drop columns with missing values.Again, for the revenue, budget, and runtime columns we will treat 0 as a missing values."
   ]
  },
  {
   "cell_type": "code",
   "execution_count": 7,
   "metadata": {},
   "outputs": [],
   "source": [
    "# drop rows with obvious missing values\n",
    "movies = movies.dropna()"
   ]
  },
  {
   "cell_type": "code",
   "execution_count": 8,
   "metadata": {},
   "outputs": [],
   "source": [
    "# drop the not-so-obvious missing values\n",
    "movies = movies[~((movies['budget'] == 0) | (movies['revenue'] == 0) | (movies['runtime'] == 0))]"
   ]
  },
  {
   "cell_type": "markdown",
   "metadata": {},
   "source": [
    "Now let's check for duplicates and drop them if any are found"
   ]
  },
  {
   "cell_type": "code",
   "execution_count": 9,
   "metadata": {},
   "outputs": [
    {
     "data": {
      "text/plain": [
       "1"
      ]
     },
     "execution_count": 9,
     "metadata": {},
     "output_type": "execute_result"
    }
   ],
   "source": [
    "# check for duplicates\n",
    "movies.duplicated().sum()"
   ]
  },
  {
   "cell_type": "markdown",
   "metadata": {},
   "source": [
    "This means we have one duplicate row. Let's drop it."
   ]
  },
  {
   "cell_type": "code",
   "execution_count": 10,
   "metadata": {},
   "outputs": [
    {
     "name": "stdout",
     "output_type": "stream",
     "text": [
      "(3854, 14)\n",
      "(3853, 14)\n"
     ]
    }
   ],
   "source": [
    "# print the shape of movies\n",
    "print(movies.shape)\n",
    "\n",
    "# drop the duplicate row\n",
    "movies.drop_duplicates(inplace=True)\n",
    "\n",
    "# print the shape of movies now to check (should one less row)\n",
    "print(movies.shape)"
   ]
  },
  {
   "cell_type": "markdown",
   "metadata": {},
   "source": [
    "And now, we deal with the release_date column. It's currently stored as a string, but we want it to be a datetime object so we can easily extract the month of release for our analysis."
   ]
  },
  {
   "cell_type": "code",
   "execution_count": 11,
   "metadata": {},
   "outputs": [],
   "source": [
    "# convert release_date to a datetime object\n",
    "movies['release_date'] = pd.to_datetime(movies['release_date'])"
   ]
  },
  {
   "cell_type": "markdown",
   "metadata": {},
   "source": [
    "<a id='eda'></a>\n",
    "## Exploratory Data Analysis\n",
    "\n",
    "\n",
    "### Question 1: What are the best and worst 10 movies of all time?"
   ]
  },
  {
   "cell_type": "markdown",
   "metadata": {},
   "source": [
    "To find the \"best\" and \"worst\" movies of all time, we have to define what best and worst are. For our case, we'll just use the *vote_average* coulmn, which is a number between 0 and 10 and represents the average of ratings given to a particular movie by users. And we'll use the number of votes as a tiebreaker. "
   ]
  },
  {
   "cell_type": "markdown",
   "metadata": {},
   "source": [
    "One thing worth noting is some movies recieved very few numbers of votes, which could be a little misleading if ignored. For the purpose of our analysis, we'll only consider movies that recieved more than a certain number of votes (I'll use the average number of votes but it could be anything). "
   ]
  },
  {
   "cell_type": "code",
   "execution_count": 12,
   "metadata": {},
   "outputs": [
    {
     "name": "stdout",
     "output_type": "stream",
     "text": [
      "(3853, 14)\n",
      "(1036, 14)\n"
     ]
    }
   ],
   "source": [
    "top_df = movies[movies['vote_count'] > movies['vote_count'].mean()]\n",
    "print(movies.shape)\n",
    "print(top_df.shape)"
   ]
  },
  {
   "cell_type": "code",
   "execution_count": 13,
   "metadata": {},
   "outputs": [],
   "source": [
    "# let's find the 10 best movies\n",
    "top_10 = top_df.sort_values(by=['vote_average', 'vote_count'], ascending=False)[['original_title', 'vote_average', 'vote_count', 'release_year', 'director', 'runtime']].head(10)\n",
    "\n",
    "# and the 10 worst movies\n",
    "worst_10 = top_df.sort_values(by=['vote_average', 'vote_count'])[['original_title', 'vote_average', 'vote_count', 'release_year', 'director', 'runtime']].head(10)"
   ]
  },
  {
   "cell_type": "markdown",
   "metadata": {},
   "source": [
    "Let's visualise the top 10 movies!"
   ]
  },
  {
   "cell_type": "code",
   "execution_count": 14,
   "metadata": {
    "scrolled": true
   },
   "outputs": [
    {
     "data": {
      "image/png": "[encoded data removed]",
      "text/plain": [
       "<Figure size 576x288 with 1 Axes>"
      ]
     },
     "metadata": {
      "needs_background": "light"
     },
     "output_type": "display_data"
    }
   ],
   "source": [
    "fig, ax = plt.subplots(figsize=(8,4))\n",
    "sns.set_style('white')\n",
    "sns.set_context('paper')\n",
    "ax = sns.barplot(x='vote_average', y='original_title', data=top_10, palette='colorblind', dodge=False)\n",
    "ax.set(xlim=(6, 8.5))\n",
    "plt.xlabel('Rating')\n",
    "plt.ylabel('Movie')\n",
    "fig.text(0.55, 1, 'Top 10 Movies', fontweight='bold')\n",
    "plt.tight_layout()"
   ]
  },
  {
   "cell_type": "markdown",
   "metadata": {},
   "source": [
    "The Shawshank Redemption, which is one of the most popular movies of all time, is top of our list.\n",
    "\n",
    "Now let's look at the 10 worst movies."
   ]
  },
  {
   "cell_type": "code",
   "execution_count": 15,
   "metadata": {
    "scrolled": true
   },
   "outputs": [
    {
     "data": {
      "image/png": "[encoded data removed]",
      "text/plain": [
       "<Figure size 576x288 with 1 Axes>"
      ]
     },
     "metadata": {},
     "output_type": "display_data"
    }
   ],
   "source": [
    "fig, ax = plt.subplots(figsize=(8,4))\n",
    "sns.set_style('white')\n",
    "sns.set_context('paper')\n",
    "ax = sns.barplot(x='vote_average', y='original_title', data=worst_10, palette='colorblind', dodge=False)\n",
    "ax.set(xlim=(2, 5))\n",
    "plt.xlabel('Rating')\n",
    "plt.ylabel('Movie')\n",
    "fig.text(0.55, 1, '10 Worst Movies', fontweight='bold')\n",
    "plt.tight_layout()"
   ]
  },
  {
   "cell_type": "markdown",
   "metadata": {},
   "source": [
    "### Question 2: Which directors have more than one movie in the top 100?"
   ]
  },
  {
   "cell_type": "markdown",
   "metadata": {},
   "source": [
    "Next, let's get a list of directors who have more than one movie in the top 100 list. To do that, first we're gonna get the list of top 100 movies. We'll use the *top_df* in which we filtered by the number of votes to avoid any misleading results."
   ]
  },
  {
   "cell_type": "code",
   "execution_count": 16,
   "metadata": {
    "scrolled": true
   },
   "outputs": [
    {
     "data": {
      "text/html": [
       "<div>\n",
       "<style scoped>\n",
       "    .dataframe tbody tr th:only-of-type {\n",
       "        vertical-align: middle;\n",
       "    }\n",
       "\n",
       "    .dataframe tbody tr th {\n",
       "        vertical-align: top;\n",
       "    }\n",
       "\n",
       "    .dataframe thead th {\n",
       "        text-align: right;\n",
       "    }\n",
       "</style>\n",
       "<table border=\"1\" class=\"dataframe\">\n",
       "  <thead>\n",
       "    <tr style=\"text-align: right;\">\n",
       "      <th></th>\n",
       "      <th>original_title</th>\n",
       "      <th>vote_average</th>\n",
       "      <th>vote_count</th>\n",
       "      <th>release_year</th>\n",
       "      <th>director</th>\n",
       "      <th>runtime</th>\n",
       "    </tr>\n",
       "  </thead>\n",
       "  <tbody>\n",
       "    <tr>\n",
       "      <th>7391</th>\n",
       "      <td>No Country for Old Men</td>\n",
       "      <td>7.6</td>\n",
       "      <td>1706</td>\n",
       "      <td>2007</td>\n",
       "      <td>Joel Coen|Ethan Coen</td>\n",
       "      <td>122</td>\n",
       "    </tr>\n",
       "    <tr>\n",
       "      <th>8973</th>\n",
       "      <td>The Big Lebowski</td>\n",
       "      <td>7.6</td>\n",
       "      <td>1696</td>\n",
       "      <td>1998</td>\n",
       "      <td>Joel Coen</td>\n",
       "      <td>117</td>\n",
       "    </tr>\n",
       "    <tr>\n",
       "      <th>6990</th>\n",
       "      <td>Million Dollar Baby</td>\n",
       "      <td>7.6</td>\n",
       "      <td>1355</td>\n",
       "      <td>2004</td>\n",
       "      <td>Clint Eastwood</td>\n",
       "      <td>132</td>\n",
       "    </tr>\n",
       "    <tr>\n",
       "      <th>683</th>\n",
       "      <td>Boyhood</td>\n",
       "      <td>7.6</td>\n",
       "      <td>1343</td>\n",
       "      <td>2014</td>\n",
       "      <td>Richard Linklater</td>\n",
       "      <td>164</td>\n",
       "    </tr>\n",
       "    <tr>\n",
       "      <th>8459</th>\n",
       "      <td>Trainspotting</td>\n",
       "      <td>7.6</td>\n",
       "      <td>1163</td>\n",
       "      <td>1996</td>\n",
       "      <td>Danny Boyle</td>\n",
       "      <td>93</td>\n",
       "    </tr>\n",
       "  </tbody>\n",
       "</table>\n",
       "</div>"
      ],
      "text/plain": [
       "              original_title  vote_average  vote_count  release_year  \\\n",
       "7391  No Country for Old Men           7.6        1706          2007   \n",
       "8973        The Big Lebowski           7.6        1696          1998   \n",
       "6990     Million Dollar Baby           7.6        1355          2004   \n",
       "683                  Boyhood           7.6        1343          2014   \n",
       "8459           Trainspotting           7.6        1163          1996   \n",
       "\n",
       "                  director  runtime  \n",
       "7391  Joel Coen|Ethan Coen      122  \n",
       "8973             Joel Coen      117  \n",
       "6990        Clint Eastwood      132  \n",
       "683      Richard Linklater      164  \n",
       "8459           Danny Boyle       93  "
      ]
     },
     "execution_count": 16,
     "metadata": {},
     "output_type": "execute_result"
    }
   ],
   "source": [
    "# Get the top 100\n",
    "top_100 = top_df.sort_values(by=['vote_average', 'vote_count'], ascending=False)[['original_title', 'vote_average', 'vote_count', 'release_year', 'director', 'runtime']].head(100)\n",
    "top_100.tail()"
   ]
  },
  {
   "cell_type": "markdown",
   "metadata": {},
   "source": [
    "We can see that some rows have multiple values for the director column spearated by '|'. We're gonna separate those and put each value in a different row so we can count both directors. \n",
    "\n",
    "We're gonna do that by defining a function that will:\n",
    "\n",
    "- Turning the director columns into a list of directors using *split* and *tolist*\n",
    "\n",
    "- Using Pandas *explode* method to get a different row for each value in the list\n",
    "\n",
    "Note: We're defining it as a function because we'll need to do the same thing again with the genres column while answering later questions in our analysis."
   ]
  },
  {
   "cell_type": "code",
   "execution_count": 17,
   "metadata": {},
   "outputs": [],
   "source": [
    "# define a function to split columns with multiple values separated by \"|\"\n",
    "def split_and_explode(df, col):\n",
    "    \"\"\"\n",
    "    Takes as input a dataframe \"df\" and a column inside the dataframe \"col\"\n",
    "    Returns a dataframe with the values inside the column split into separate rows\n",
    "    instead of being in one row and separated by \"|\"\n",
    "    \"\"\"\n",
    "    # turn the column into a list instead of a string separated by |\n",
    "    df[col] = df[col].str.split('|').tolist()\n",
    "    \n",
    "    # put each value in the list in a separate row\n",
    "    df = df.explode(col)\n",
    "    \n",
    "    # reutrn the final df\n",
    "    return df"
   ]
  },
  {
   "cell_type": "code",
   "execution_count": 18,
   "metadata": {
    "scrolled": false
   },
   "outputs": [
    {
     "name": "stdout",
     "output_type": "stream",
     "text": [
      "(100, 2)\n",
      "(106, 2)\n"
     ]
    },
    {
     "name": "stderr",
     "output_type": "stream",
     "text": [
      "C:\\Users\\MOHAMMED\\anaconda3\\lib\\site-packages\\ipykernel_launcher.py:9: SettingWithCopyWarning: \n",
      "A value is trying to be set on a copy of a slice from a DataFrame.\n",
      "Try using .loc[row_indexer,col_indexer] = value instead\n",
      "\n",
      "See the caveats in the documentation: https://pandas.pydata.org/pandas-docs/stable/user_guide/indexing.html#returning-a-view-versus-a-copy\n",
      "  if __name__ == '__main__':\n"
     ]
    }
   ],
   "source": [
    "# create a df of the directors for the top 100\n",
    "direct_100 = top_100[['original_title', 'director']]\n",
    "\n",
    "# print the shape before\n",
    "print(direct_100.shape)\n",
    "\n",
    "# separate the director into different rows\n",
    "direct_100 = split_and_explode(direct_100, 'director')\n",
    "\n",
    "# print the shape after to check\n",
    "print(direct_100.shape)"
   ]
  },
  {
   "cell_type": "markdown",
   "metadata": {},
   "source": [
    "Ok the shape indicates that everything is working as we expect, great! Now let's get a list of directors who appeared more than once in this list and plot it. "
   ]
  },
  {
   "cell_type": "code",
   "execution_count": 19,
   "metadata": {},
   "outputs": [
    {
     "data": {
      "image/png": "[encoded data removed]",
      "text/plain": [
       "<Figure size 576x360 with 1 Axes>"
      ]
     },
     "metadata": {},
     "output_type": "display_data"
    }
   ],
   "source": [
    "# directors who appeared more than once in the top 100\n",
    "more_than_once = direct_100['director'].value_counts()[direct_100['director'].value_counts() > 1]\n",
    "\n",
    "# plot\n",
    "fig, ax = plt.subplots(figsize=(8,5))\n",
    "sns.set_style(\"white\")\n",
    "sns.set_context('paper')\n",
    "ax = sns.barplot(x=more_than_once.values, y=more_than_once.index, palette=\"colorblind\", dodge=False)\n",
    "ax.set(xlim=(0, 5.5))\n",
    "plt.xlabel('Number of Movies')\n",
    "plt.ylabel('Director')\n",
    "fig.text(0.45, 1, 'Directors with Most Movies in top 100', fontweight='bold')\n",
    "plt.tight_layout()"
   ]
  },
  {
   "cell_type": "markdown",
   "metadata": {},
   "source": [
    "We can see that Kubrick, Nolan, Tarantino, and Scorsese are the ones with the most movies in the top 100 (each with 5). All four of them are incredibly successful and popular directors and our findings confirm that."
   ]
  },
  {
   "cell_type": "markdown",
   "metadata": {},
   "source": [
    "### Question 3: How has the number of movies being made changed over the years?"
   ]
  },
  {
   "cell_type": "markdown",
   "metadata": {},
   "source": [
    "When I try to pick a movie to watch nowadays, it always feels like there are endless options. Everyone loves movies, the cinema industry is one of the most important industries there is. So it surely seems like the number of movies being produced each year is increasing as time goes by. Let's look at the data to examine that."
   ]
  },
  {
   "cell_type": "code",
   "execution_count": 20,
   "metadata": {},
   "outputs": [],
   "source": [
    "num_by_year = movies['release_year'].value_counts().sort_index(ascending=False)"
   ]
  },
  {
   "cell_type": "code",
   "execution_count": 21,
   "metadata": {},
   "outputs": [
    {
     "data": {
      "image/png": "[encoded data removed]",
      "text/plain": [
       "<Figure size 648x360 with 1 Axes>"
      ]
     },
     "metadata": {},
     "output_type": "display_data"
    }
   ],
   "source": [
    "fig, ax = plt.subplots(figsize=(9,5))\n",
    "sns.set_style(\"white\")\n",
    "sns.set_context('paper')\n",
    "ax = sns.lineplot(x=num_by_year.index, y=num_by_year.values)\n",
    "plt.xlabel('Year')\n",
    "plt.ylabel('Number of Movies')\n",
    "fig.text(0.4, 1, 'Number of Movies over the Years', fontweight='bold')\n",
    "plt.tight_layout()"
   ]
  },
  {
   "cell_type": "markdown",
   "metadata": {},
   "source": [
    "## Question 4: Which month generates the most revenue?"
   ]
  },
  {
   "cell_type": "markdown",
   "metadata": {},
   "source": [
    "Now let's look the revenue generated by movies released in different months. To do that we're going to:\n",
    "\n",
    "- Create a new attribute, the *release_month*, extracted from the *release_date*\n",
    "- Use groupby and sum to find the total *revenue_adj* for movies released in each month."
   ]
  },
  {
   "cell_type": "code",
   "execution_count": 22,
   "metadata": {},
   "outputs": [
    {
     "data": {
      "image/png": "[encoded data removed]",
      "text/plain": [
       "<Figure size 576x360 with 1 Axes>"
      ]
     },
     "metadata": {},
     "output_type": "display_data"
    }
   ],
   "source": [
    "# Create a copy of the movies df in case something goes wrong\n",
    "by_month = movies.copy()\n",
    "\n",
    "# add the new release_month column\n",
    "by_month['release_month'] = by_month['release_date'].dt.month\n",
    "\n",
    "# now we group by the month and find the total revenue_adj\n",
    "rev_per_month = pd.DataFrame(by_month.groupby('release_month')['revenue'].sum()).reset_index()\n",
    "\n",
    "# and plot\n",
    "fig, ax = plt.subplots(figsize=(8,5))\n",
    "sns.set_style(\"white\")\n",
    "sns.set_context('paper')\n",
    "ax = sns.barplot(x='release_month', y='revenue', data=rev_per_month, palette=\"colorblind\", dodge=False)\n",
    "plt.xlabel('Release Month')\n",
    "plt.ylabel('Revenue')\n",
    "fig.text(0.45, 1, 'Revenue by Month', fontweight='bold')\n",
    "plt.tight_layout()"
   ]
  },
  {
   "cell_type": "markdown",
   "metadata": {},
   "source": [
    "So we can see that June, the first month of the summer,  is the month with the most revenue generated followed by December (something to do with holidays probably).\n",
    "\n",
    "It could be interesting to investigate this further and look at it in more details, it could be that a few movies are responsible for most of the revenue because it's a well-known fact amongst the cinema community that the summer is the period when blockbusters are usually released and those tend to get more revenue than other movies."
   ]
  },
  {
   "cell_type": "markdown",
   "metadata": {},
   "source": [
    "We could also examine the number of movies being released each month and see whether it follows a similar pattern."
   ]
  },
  {
   "cell_type": "code",
   "execution_count": 23,
   "metadata": {},
   "outputs": [
    {
     "data": {
      "image/png": "[encoded data removed]",
      "text/plain": [
       "<Figure size 576x360 with 1 Axes>"
      ]
     },
     "metadata": {},
     "output_type": "display_data"
    }
   ],
   "source": [
    "count_by_month = by_month.groupby('release_month')['id'].count()\n",
    "\n",
    "# and plot\n",
    "fig, ax = plt.subplots(figsize=(8,5))\n",
    "sns.set_style(\"white\")\n",
    "sns.set_context('paper')\n",
    "ax = sns.barplot(x=count_by_month.index, y=count_by_month.values, palette=\"colorblind\", dodge=False)\n",
    "plt.xlabel('Release Month')\n",
    "plt.ylabel('Count')\n",
    "fig.text(0.4, 1, 'Number of Movies Released Each Month', fontweight='bold')\n",
    "plt.tight_layout()"
   ]
  },
  {
   "cell_type": "markdown",
   "metadata": {},
   "source": [
    "Interestingly, September is the month with the biggest number of movies but also one of the lowest when looking at revenue generated. This would be an interesting point to investigate further in a different analysis"
   ]
  },
  {
   "cell_type": "markdown",
   "metadata": {},
   "source": [
    "## Question 5: How many movies were produced per genre?"
   ]
  },
  {
   "cell_type": "markdown",
   "metadata": {},
   "source": [
    "Well the question is pretty self-explanatory, so let's get to work. To do that we first need to deal with the fact that one movie can have more than one genre. We're gonna create a dateframe with the genres separated for each movie instead of just a long string with '|' between the genres. \n",
    "\n",
    "We're gonna use the same function *split_and_explode()* we defined while working with the directors column earlier.\n",
    "\n",
    "- Turn the genres columns into a list of genres using *split* and *tolist*\n",
    "\n",
    "- Using Pandas *explode* method to get a different row for each value in the list"
   ]
  },
  {
   "cell_type": "code",
   "execution_count": 24,
   "metadata": {},
   "outputs": [
    {
     "name": "stdout",
     "output_type": "stream",
     "text": [
      "(3853, 14)\n",
      "(10299, 14)\n"
     ]
    }
   ],
   "source": [
    "# create a new df in case something goes wrong \n",
    "gen_df = movies.copy()\n",
    "\n",
    "# print the shape before\n",
    "print(gen_df.shape)\n",
    "\n",
    "# separate the genres into different rows\n",
    "gen_df = split_and_explode(gen_df, 'genres')\n",
    "\n",
    "# print the shape after to check\n",
    "print(gen_df.shape)"
   ]
  },
  {
   "cell_type": "markdown",
   "metadata": {},
   "source": [
    "Now let's plot the number of movies per genre."
   ]
  },
  {
   "cell_type": "code",
   "execution_count": 25,
   "metadata": {},
   "outputs": [
    {
     "data": {
      "image/png": "[encoded data removed]",
      "text/plain": [
       "<Figure size 576x360 with 1 Axes>"
      ]
     },
     "metadata": {},
     "output_type": "display_data"
    }
   ],
   "source": [
    "movies_per_genre = gen_df['genres'].value_counts()\n",
    "\n",
    "# and plot\n",
    "fig, ax = plt.subplots(figsize=(8,5))\n",
    "sns.set_style(\"white\")\n",
    "sns.set_context('paper')\n",
    "ax = sns.barplot(x=movies_per_genre.values, y=movies_per_genre.index, palette=\"colorblind\", dodge=False)\n",
    "plt.xlabel('Number of Movies')\n",
    "plt.ylabel('Genre')\n",
    "fig.text(0.4, 1, 'Number of Movies Created by Genre', fontweight='bold')\n",
    "plt.tight_layout()"
   ]
  },
  {
   "cell_type": "markdown",
   "metadata": {},
   "source": [
    "Drama and Comedy are the top two genres when it comes to the number of movies being made."
   ]
  },
  {
   "cell_type": "markdown",
   "metadata": {},
   "source": [
    "## Question 6: What's the average movie runtime and how has it changed over the years?"
   ]
  },
  {
   "cell_type": "markdown",
   "metadata": {},
   "source": [
    "\"That's **two hours** of my life I'm not getting back\" is probably a phrase you hear a lot when people are complaining about a movie they didn't like. But what's the actual average runtime of a movie? Is it really two hours? And has it always been \"two hours\" or did people in the 70's use a different phrase to complain about movies they hated? We're gonna try to answer that with the data we have at hand."
   ]
  },
  {
   "cell_type": "markdown",
   "metadata": {},
   "source": [
    "Let's plot a histogram of the runtimes of all movies in our dataset."
   ]
  },
  {
   "cell_type": "code",
   "execution_count": 26,
   "metadata": {},
   "outputs": [
    {
     "data": {
      "text/plain": [
       "Text(0.5, 0, 'Runtime of Movies')"
      ]
     },
     "execution_count": 26,
     "metadata": {},
     "output_type": "execute_result"
    },
    {
     "data": {
      "image/png": "[encoded data removed]",
      "text/plain": [
       "<Figure size 648x360 with 1 Axes>"
      ]
     },
     "metadata": {},
     "output_type": "display_data"
    }
   ],
   "source": [
    "fig, ax = plt.subplots(figsize=(9,5))\n",
    "ax = plt.hist(movies['runtime'], bins=20, facecolor='r')\n",
    "plt.xlabel('Runtime of Movies')"
   ]
  },
  {
   "cell_type": "markdown",
   "metadata": {},
   "source": [
    "From this figure we can see that the average runtime is around 110 minutes. And there are a few really long movies. \n",
    "\n",
    "Ok, so maybe all those people complaining didn't lose exactly two hours. But it's pretty close. But has it always been this way? Let's look at how movies runtime has changed over the years next."
   ]
  },
  {
   "cell_type": "code",
   "execution_count": 27,
   "metadata": {},
   "outputs": [
    {
     "data": {
      "text/plain": [
       "Text(0.5, 1.0, 'Change in Average Runtime of Movies Over the Years')"
      ]
     },
     "execution_count": 27,
     "metadata": {},
     "output_type": "execute_result"
    },
    {
     "data": {
      "image/png": "[encoded data removed]",
      "text/plain": [
       "<Figure size 648x360 with 1 Axes>"
      ]
     },
     "metadata": {},
     "output_type": "display_data"
    }
   ],
   "source": [
    "time_by_year = movies.groupby('release_year')['runtime'].mean()\n",
    "\n",
    "fig, ax = plt.subplots(figsize=(9,5))\n",
    "ax = time_by_year.plot(color='red')\n",
    "plt.xlabel('Year')\n",
    "plt.ylabel('Runtime')\n",
    "plt.title('Change in Average Runtime of Movies Over the Years')"
   ]
  },
  {
   "cell_type": "markdown",
   "metadata": {},
   "source": [
    "It looks like the general trend is that movies are getting shorter.If you're looking for a short movie maybe start looking for a movie made in the 80's."
   ]
  },
  {
   "cell_type": "markdown",
   "metadata": {},
   "source": [
    "## Question 7: How has the runtime changed over the years considering different movie genres? (Comedy & Drama)"
   ]
  },
  {
   "cell_type": "markdown",
   "metadata": {},
   "source": [
    "Do different movie genres have different runtime? Earlier we found out that comedy and drama are the most common genres, We're gonna look at how those two differ when it comes to runtime.\n",
    "\n",
    "This could be expanded to include more genres, but we're just gonna examine those two to make the plots easier to understand."
   ]
  },
  {
   "cell_type": "markdown",
   "metadata": {},
   "source": [
    "We're gonna use the *gen_df* we created earlier to calculate the average runtime for comedy and drama movies over the years to see how they changed."
   ]
  },
  {
   "cell_type": "code",
   "execution_count": 28,
   "metadata": {},
   "outputs": [
    {
     "data": {
      "image/png": "[encoded data removed]",
      "text/plain": [
       "<Figure size 648x360 with 1 Axes>"
      ]
     },
     "metadata": {},
     "output_type": "display_data"
    }
   ],
   "source": [
    "runtime_gen_yr = pd.DataFrame(gen_df.groupby(['release_year', 'genres'])['runtime'].mean()).reset_index()\n",
    "genres_to_consider = ['Drama', 'Comedy']\n",
    "runtime_gen_yr_consider = runtime_gen_yr[runtime_gen_yr['genres'].isin(genres_to_consider)]\n",
    "\n",
    "\n",
    "fig, ax = plt.subplots(figsize=(9,5))\n",
    "sns.set_style(\"white\")\n",
    "sns.set_context('paper')\n",
    "ax = sns.lineplot(x=\"release_year\", y=\"runtime\", hue='genres', data=runtime_gen_yr_consider, palette=\"colorblind\")\n",
    "#ax.set(xlim=(6, 8.5))\n",
    "plt.xlabel('Release Year')\n",
    "plt.ylabel('Runtime')\n",
    "fig.text(0.4, 1, 'Comedy vs Drama Runtime', fontweight='bold')\n",
    "plt.tight_layout()"
   ]
  },
  {
   "cell_type": "markdown",
   "metadata": {},
   "source": [
    "Both of them seem to follow the same general trend, they're getting shorter. But what's interesting is that drama movies used to be much longer than comedy movies, but in recent years the difference has shrunk."
   ]
  },
  {
   "cell_type": "markdown",
   "metadata": {},
   "source": [
    "<a id='conclusions'></a>\n",
    "## Conclusions\n",
    "\n",
    "The data set was used to answer a number of posed questions at the beginning and in order to do that, we first started by cleaning the data set.\n",
    "\n",
    "Some columns irrlevant to our analysis were dropped like: \n",
    "\n",
    "- imdb id\n",
    "- cast\n",
    "- homepage\n",
    "- tagline\n",
    "- keywords\n",
    "- overview\n",
    "- production companies\n",
    "\n",
    "I then dropped the missing values (for revenue, budget, runtime 0 was treated as a missing value), and did the same with duplicate rows. I also changed the release date column to a datetime object to help with our analysis.\n",
    "\n",
    "For some of the questions posed I needed to expand the genres and directors column to account for movies with more than one genre or more than one director. "
   ]
  },
  {
   "cell_type": "markdown",
   "metadata": {
    "collapsed": true
   },
   "source": [
    "#### Question 1: What are the best and worst 10 movies of all time?\n",
    "I only accounted for movies that got more than a certain number of votes. And I found that according to the user ratings, the top 10 movies were:\n",
    "\n",
    "1. The Shawshank Redemption\t\n",
    "2. The Godfather\n",
    "3. Whiplash\n",
    "4. The Dark Knight\n",
    "5. Fight Club\t\n",
    "6. Pulp Fiction\n",
    "7. Forrest Gump\n",
    "8. Schindler's List\n",
    "9. The Godfather: Part II\n",
    "10. Interstellar\n",
    "\n",
    "And the worst 10 movies were:\n",
    "\n",
    "1. The Boy Next Door\n",
    "2. Movie 43\n",
    "3. Batman & Robin\n",
    "4. Fantastic Four\n",
    "5. Scary Movie 5\n",
    "6. The Last Airbender\n",
    "7. Ghost Rider: Spirit of Vengeance\n",
    "8. Eragon\n",
    "9. Ouija\n",
    "10. Daredevil"
   ]
  },
  {
   "cell_type": "markdown",
   "metadata": {},
   "source": [
    "#### Question 2: Which directors have more than one movie in the top 100?\n",
    "There were a number of directors with more than one movie in the top 100, the ones with the most movies in the top 100 with 5 movies each were:\n",
    "1. Stanley Kubrick\n",
    "2. Chirstopher Nolan \n",
    "3. Quentin Tarantino\n",
    "4. Martin Scorsese "
   ]
  },
  {
   "cell_type": "markdown",
   "metadata": {},
   "source": [
    "#### Question 3: How has the number of movies being made changed over the years?\n",
    "\n",
    "According to the data in this data set, the general trend is that the number of movies being produced is getting bigger, with its peak around 2011. "
   ]
  },
  {
   "cell_type": "markdown",
   "metadata": {},
   "source": [
    "#### Question 4: Which month generates the most revenue?\n",
    "According to our data, June is the month with the most revenue generated by movies followed closely by December. December is also the month with most movies released. \n",
    "\n",
    "On the other hand, January was the month with the least revenue generated.\n",
    "\n",
    "It would be interesting to investigate this further and account for the 'blockbusters effect', because a lot of those commercially successful movies are typically released in the summer and around the holidays, so they could be the ones driving the revenues up for those months."
   ]
  },
  {
   "cell_type": "markdown",
   "metadata": {},
   "source": [
    "#### Question 5: How many movies were produced per genre?\n",
    "\n",
    "I looked at the number of movies produced per genre, and it looks like Drama, Comedy, and Thirller are our top 3 genres with 1755, 1357, and 1204 movies respectively. "
   ]
  },
  {
   "cell_type": "markdown",
   "metadata": {},
   "source": [
    "#### Question 6: What's the average movie runtime and how has it changed over the years?\n",
    "\n",
    "I looked at the average movie runtime and found out it's approximately 109 minutes. But that hasn't always been the case. I also examined how the average runtime of movies changed over the years and found that the general trend is that movies on average are getting shorter with them being longest around the mid 60's and shortest during the mid 80's."
   ]
  },
  {
   "cell_type": "markdown",
   "metadata": {},
   "source": [
    "#### Question 7: How has the runtime changed over the years considering different movie genres? (Comedy & Drama)\n",
    "\n",
    "I then compared the two genres with most movies (Drama and Comedy) when it comes to their runtimes over the years. I found that both of them follow the same general trend in which they're also getting shorter.\n",
    "\n",
    "Drama movies tend to be longer than comedy movies, but the difference isn't as big as it's used to be with the difference being much smaller in recent years than it was in say the early 60's.\n",
    "\n",
    "It would be interesting to investigate this further to try and find out why this is the case."
   ]
  },
  {
   "cell_type": "markdown",
   "metadata": {},
   "source": [
    "### Limitations\n",
    "\n",
    "- There were lots of missing values in the budget and revenue columns so I had to drop all of those which affected the size of the data set.\n",
    "- Budget and revenue don't have a currency unit and it wasn't clear whether the revenue columns shows the global revenues or not, so I had to be very careful analysing those.\n",
    "- Some movies had very user few votes so I had to leave them out when analysing the ratings.\n",
    "-  It would've been interesting to analyse the effect of the Covid-19 pandemic on the film industry but the data isn't up to date, it only contains data about movies up to 2015. "
   ]
  }
 ],
 "metadata": {
  "kernelspec": {
   "display_name": "Python 3",
   "language": "python",
   "name": "python3"
  },
  "language_info": {
   "codemirror_mode": {
    "name": "ipython",
    "version": 3
   },
   "file_extension": ".py",
   "mimetype": "text/x-python",
   "name": "python",
   "nbconvert_exporter": "python",
   "pygments_lexer": "ipython3",
   "version": "3.7.6"
  }
 },
 "nbformat": 4,
 "nbformat_minor": 2
}
